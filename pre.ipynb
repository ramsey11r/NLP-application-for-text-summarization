{
  "cells": [
    {
      "cell_type": "code",
      "execution_count": 62,
      "metadata": {
        "id": "pYIWkeI6EnvF"
      },
      "outputs": [],
      "source": [
        "import spacy\n",
        "from spacy.lang.en.stop_words import STOP_WORDS\n",
        "from string import punctuation"
      ]
    },
    {
      "cell_type": "code",
      "execution_count": null,
      "metadata": {},
      "outputs": [],
      "source": []
    },
    {
      "cell_type": "code",
      "execution_count": 63,
      "metadata": {
        "id": "bbSzMxm7Ev5d"
      },
      "outputs": [],
      "source": [
        "stopwords = list(STOP_WORDS)"
      ]
    },
    {
      "cell_type": "code",
      "execution_count": 64,
      "metadata": {
        "id": "jkhtsghhEy64"
      },
      "outputs": [],
      "source": [
        "nlp = spacy.load('en_core_web_sm')"
      ]
    },
    {
      "cell_type": "code",
      "execution_count": 65,
      "metadata": {
        "id": "rgVQdPbPE_5O"
      },
      "outputs": [],
      "source": [
        "text = \"\"\"\n",
        "Deep learning applications are used in industries from automated driving to medical devices.\n",
        "Automated Driving: Automotive researchers are using deep learning to automatically detect objects such as stop signs and traffic lights. In addition, deep learning is used to detect pedestrians, which helps decrease accidents.\n",
        "Aerospace and Defense: Deep learning is used to identify objects from satellites that locate areas of interest, and identify safe or unsafe zones for troops.\n",
        "Medical Research: Cancer researchers are using deep learning to automatically detect cancer cells. Teams at UCLA built an advanced microscope that yields a high-dimensional data set used to train a deep learning application to accurately identify cancer cells.\n",
        "\n",
        "\"\"\""
      ]
    },
    {
      "cell_type": "code",
      "execution_count": 66,
      "metadata": {
        "id": "qoqWMwa6E5E2"
      },
      "outputs": [],
      "source": [
        "doc = nlp(text)"
      ]
    },
    {
      "cell_type": "code",
      "execution_count": 67,
      "metadata": {
        "colab": {
          "base_uri": "https://localhost:8080/"
        },
        "id": "n2OKjBUbFUPW",
        "outputId": "8489899c-f6bd-47e3-bbb9-d296533892f2"
      },
      "outputs": [
        {
          "name": "stdout",
          "output_type": "stream",
          "text": [
            "['\\n', 'Deep', 'learning', 'applications', 'are', 'used', 'in', 'industries', 'from', 'automated', 'driving', 'to', 'medical', 'devices', '.', '\\n', 'Automated', 'Driving', ':', 'Automotive', 'researchers', 'are', 'using', 'deep', 'learning', 'to', 'automatically', 'detect', 'objects', 'such', 'as', 'stop', 'signs', 'and', 'traffic', 'lights', '.', 'In', 'addition', ',', 'deep', 'learning', 'is', 'used', 'to', 'detect', 'pedestrians', ',', 'which', 'helps', 'decrease', 'accidents', '.', '\\n', 'Aerospace', 'and', 'Defense', ':', 'Deep', 'learning', 'is', 'used', 'to', 'identify', 'objects', 'from', 'satellites', 'that', 'locate', 'areas', 'of', 'interest', ',', 'and', 'identify', 'safe', 'or', 'unsafe', 'zones', 'for', 'troops', '.', '\\n', 'Medical', 'Research', ':', 'Cancer', 'researchers', 'are', 'using', 'deep', 'learning', 'to', 'automatically', 'detect', 'cancer', 'cells', '.', 'Teams', 'at', 'UCLA', 'built', 'an', 'advanced', 'microscope', 'that', 'yields', 'a', 'high', '-', 'dimensional', 'data', 'set', 'used', 'to', 'train', 'a', 'deep', 'learning', 'application', 'to', 'accurately', 'identify', 'cancer', 'cells', '.', '\\n\\n\\n']\n"
          ]
        }
      ],
      "source": [
        "tokens = [token.text for token in doc]\n",
        "print(tokens)"
      ]
    },
    {
      "cell_type": "code",
      "execution_count": 68,
      "metadata": {
        "colab": {
          "base_uri": "https://localhost:8080/",
          "height": 35
        },
        "id": "8Ihz1ZhzFZ5r",
        "outputId": "a77587cb-cf0e-45c6-c8ea-d7c9c152ee76"
      },
      "outputs": [
        {
          "data": {
            "text/plain": [
              "'!\"#$%&\\'()*+,-./:;<=>?@[\\\\]^_`{|}~\\n'"
            ]
          },
          "execution_count": 68,
          "metadata": {},
          "output_type": "execute_result"
        }
      ],
      "source": [
        "punctuation = punctuation + '\\n'\n",
        "punctuation"
      ]
    },
    {
      "cell_type": "code",
      "execution_count": 69,
      "metadata": {
        "colab": {
          "base_uri": "https://localhost:8080/"
        },
        "id": "S_-IQLzYFpmO",
        "outputId": "329f42b0-96f7-44e7-e2a5-443a0ddc2ea0"
      },
      "outputs": [
        {
          "name": "stdout",
          "output_type": "stream",
          "text": [
            "{'Deep': 2, 'learning': 6, 'applications': 1, 'industries': 1, 'automated': 1, 'driving': 1, 'medical': 1, 'devices': 1, 'Automated': 1, 'Driving': 1, 'Automotive': 1, 'researchers': 2, 'deep': 4, 'automatically': 2, 'detect': 3, 'objects': 2, 'stop': 1, 'signs': 1, 'traffic': 1, 'lights': 1, 'addition': 1, 'pedestrians': 1, 'helps': 1, 'decrease': 1, 'accidents': 1, 'Aerospace': 1, 'Defense': 1, 'identify': 3, 'satellites': 1, 'locate': 1, 'areas': 1, 'interest': 1, 'safe': 1, 'unsafe': 1, 'zones': 1, 'troops': 1, 'Medical': 1, 'Research': 1, 'Cancer': 1, 'cancer': 2, 'cells': 2, 'Teams': 1, 'UCLA': 1, 'built': 1, 'advanced': 1, 'microscope': 1, 'yields': 1, 'high': 1, 'dimensional': 1, 'data': 1, 'set': 1, 'train': 1, 'application': 1, 'accurately': 1, '\\n\\n\\n': 1}\n"
          ]
        }
      ],
      "source": [
        "word_frequencies = {}\n",
        "for word in doc:\n",
        "    if word.text.lower() not in stopwords:\n",
        "        if word.text.lower() not in punctuation:\n",
        "            if word.text not in word_frequencies.keys():\n",
        "                word_frequencies[word.text] = 1\n",
        "            else:\n",
        "                word_frequencies[word.text] += 1\n",
        "\n",
        "print(word_frequencies)"
      ]
    },
    {
      "cell_type": "code",
      "execution_count": 70,
      "metadata": {
        "colab": {
          "base_uri": "https://localhost:8080/"
        },
        "id": "nRtiwiSgFw1y",
        "outputId": "68150df5-a924-4f08-8c97-5277cb12b628"
      },
      "outputs": [
        {
          "data": {
            "text/plain": [
              "6"
            ]
          },
          "execution_count": 70,
          "metadata": {},
          "output_type": "execute_result"
        }
      ],
      "source": [
        "max_frequency = max(word_frequencies.values())\n",
        "max_frequency"
      ]
    },
    {
      "cell_type": "code",
      "execution_count": 71,
      "metadata": {
        "colab": {
          "base_uri": "https://localhost:8080/"
        },
        "id": "MSuPEOHmF6og",
        "outputId": "cb0f4b87-182d-4687-c6ef-cf741864459d"
      },
      "outputs": [
        {
          "name": "stdout",
          "output_type": "stream",
          "text": [
            "{'Deep': 0.3333333333333333, 'learning': 1.0, 'applications': 0.16666666666666666, 'industries': 0.16666666666666666, 'automated': 0.16666666666666666, 'driving': 0.16666666666666666, 'medical': 0.16666666666666666, 'devices': 0.16666666666666666, 'Automated': 0.16666666666666666, 'Driving': 0.16666666666666666, 'Automotive': 0.16666666666666666, 'researchers': 0.3333333333333333, 'deep': 0.6666666666666666, 'automatically': 0.3333333333333333, 'detect': 0.5, 'objects': 0.3333333333333333, 'stop': 0.16666666666666666, 'signs': 0.16666666666666666, 'traffic': 0.16666666666666666, 'lights': 0.16666666666666666, 'addition': 0.16666666666666666, 'pedestrians': 0.16666666666666666, 'helps': 0.16666666666666666, 'decrease': 0.16666666666666666, 'accidents': 0.16666666666666666, 'Aerospace': 0.16666666666666666, 'Defense': 0.16666666666666666, 'identify': 0.5, 'satellites': 0.16666666666666666, 'locate': 0.16666666666666666, 'areas': 0.16666666666666666, 'interest': 0.16666666666666666, 'safe': 0.16666666666666666, 'unsafe': 0.16666666666666666, 'zones': 0.16666666666666666, 'troops': 0.16666666666666666, 'Medical': 0.16666666666666666, 'Research': 0.16666666666666666, 'Cancer': 0.16666666666666666, 'cancer': 0.3333333333333333, 'cells': 0.3333333333333333, 'Teams': 0.16666666666666666, 'UCLA': 0.16666666666666666, 'built': 0.16666666666666666, 'advanced': 0.16666666666666666, 'microscope': 0.16666666666666666, 'yields': 0.16666666666666666, 'high': 0.16666666666666666, 'dimensional': 0.16666666666666666, 'data': 0.16666666666666666, 'set': 0.16666666666666666, 'train': 0.16666666666666666, 'application': 0.16666666666666666, 'accurately': 0.16666666666666666, '\\n\\n\\n': 0.16666666666666666}\n"
          ]
        }
      ],
      "source": [
        "for word in word_frequencies.keys():\n",
        "    word_frequencies[word] = word_frequencies[word]/max_frequency\n",
        "\n",
        "print(word_frequencies)"
      ]
    },
    {
      "cell_type": "code",
      "execution_count": 72,
      "metadata": {
        "colab": {
          "base_uri": "https://localhost:8080/"
        },
        "id": "Kcdq1I4PF-ub",
        "outputId": "4048bc2d-ee6f-4273-ff04-2be768bb783d"
      },
      "outputs": [
        {
          "name": "stdout",
          "output_type": "stream",
          "text": [
            "[\n",
            "Deep learning applications are used in industries from automated driving to medical devices.\n",
            ", Automated Driving:, Automotive researchers are using deep learning to automatically detect objects such as stop signs and traffic lights., In addition, deep learning is used to detect pedestrians, which helps decrease accidents.\n",
            ", Aerospace and Defense:, Deep learning is used to identify objects from satellites that locate areas of interest, and identify safe or unsafe zones for troops.\n",
            ", Medical Research:, Cancer researchers are using deep learning to automatically detect cancer cells., Teams at UCLA built an advanced microscope that yields a high-dimensional data set used to train a deep learning application to accurately identify cancer cells.\n",
            "\n",
            "\n",
            "]\n"
          ]
        }
      ],
      "source": [
        "sentence_tokens = [sent for sent in doc.sents]\n",
        "print(sentence_tokens)"
      ]
    },
    {
      "cell_type": "code",
      "execution_count": 73,
      "metadata": {
        "colab": {
          "base_uri": "https://localhost:8080/"
        },
        "id": "caEoQPzqGEQK",
        "outputId": "dc2e5a47-6a1f-4f2b-95fa-73e4918d4316"
      },
      "outputs": [
        {
          "data": {
            "text/plain": [
              "{\n",
              " Deep learning applications are used in industries from automated driving to medical devices.: 2.666666666666666,\n",
              " Automated Driving:: 0.3333333333333333,\n",
              " Automotive researchers are using deep learning to automatically detect objects such as stop signs and traffic lights.: 3.833333333333333,\n",
              " In addition, deep learning is used to detect pedestrians, which helps decrease accidents.: 2.999999999999999,\n",
              " Deep learning is used to identify objects from satellites that locate areas of interest, and identify safe or unsafe zones for troops.: 4.333333333333333,\n",
              " Medical Research:: 0.16666666666666666,\n",
              " Cancer researchers are using deep learning to automatically detect cancer cells.: 3.8333333333333335,\n",
              " Teams at UCLA built an advanced microscope that yields a high-dimensional data set used to train a deep learning application to accurately identify cancer cells.\n",
              " \n",
              " : 4.833333333333333}"
            ]
          },
          "execution_count": 73,
          "metadata": {},
          "output_type": "execute_result"
        }
      ],
      "source": [
        "sentence_scores = {}\n",
        "for sent in sentence_tokens:\n",
        "    for word in sent:\n",
        "        if word.text.lower() in word_frequencies.keys():\n",
        "            if sent not in sentence_scores.keys():\n",
        "                sentence_scores[sent] = word_frequencies[word.text.lower()]\n",
        "            else:\n",
        "                sentence_scores[sent] += word_frequencies[word.text.lower()]\n",
        "\n",
        "sentence_scores"
      ]
    },
    {
      "cell_type": "code",
      "execution_count": 74,
      "metadata": {
        "id": "hNXjQ23GGJuz"
      },
      "outputs": [],
      "source": [
        "from heapq import nlargest"
      ]
    },
    {
      "cell_type": "code",
      "execution_count": 75,
      "metadata": {
        "colab": {
          "base_uri": "https://localhost:8080/"
        },
        "id": "xVvF-K5HGM01",
        "outputId": "4de670cb-4949-4e24-8fbd-eeb5906cad91"
      },
      "outputs": [
        {
          "data": {
            "text/plain": [
              "2"
            ]
          },
          "execution_count": 75,
          "metadata": {},
          "output_type": "execute_result"
        }
      ],
      "source": [
        "select_length = int(len(sentence_tokens)*0.3)\n",
        "select_length"
      ]
    },
    {
      "cell_type": "code",
      "execution_count": 76,
      "metadata": {
        "colab": {
          "base_uri": "https://localhost:8080/"
        },
        "id": "64fjboKtGO6w",
        "outputId": "489c3820-b062-40ec-c107-f1ae7f4990f8"
      },
      "outputs": [
        {
          "data": {
            "text/plain": [
              "[Teams at UCLA built an advanced microscope that yields a high-dimensional data set used to train a deep learning application to accurately identify cancer cells.\n",
              " \n",
              " ,\n",
              " Deep learning is used to identify objects from satellites that locate areas of interest, and identify safe or unsafe zones for troops.]"
            ]
          },
          "execution_count": 76,
          "metadata": {},
          "output_type": "execute_result"
        }
      ],
      "source": [
        "summary = nlargest(select_length, sentence_scores, key = sentence_scores.get)\n",
        "summary"
      ]
    },
    {
      "cell_type": "code",
      "execution_count": 77,
      "metadata": {
        "id": "U0dicyP6GejX"
      },
      "outputs": [],
      "source": [
        "final_summary = [word.text for word in summary]\n",
        "summary = ' '.join(final_summary)"
      ]
    },
    {
      "cell_type": "code",
      "execution_count": 78,
      "metadata": {
        "colab": {
          "base_uri": "https://localhost:8080/"
        },
        "id": "y2i_uZt3GiMu",
        "outputId": "9d2a83bb-f816-43b3-c44f-36cdae4ffa2e"
      },
      "outputs": [
        {
          "name": "stdout",
          "output_type": "stream",
          "text": [
            "\n",
            "Deep learning applications are used in industries from automated driving to medical devices.\n",
            "Automated Driving: Automotive researchers are using deep learning to automatically detect objects such as stop signs and traffic lights. In addition, deep learning is used to detect pedestrians, which helps decrease accidents.\n",
            "Aerospace and Defense: Deep learning is used to identify objects from satellites that locate areas of interest, and identify safe or unsafe zones for troops.\n",
            "Medical Research: Cancer researchers are using deep learning to automatically detect cancer cells. Teams at UCLA built an advanced microscope that yields a high-dimensional data set used to train a deep learning application to accurately identify cancer cells.\n",
            "\n",
            "\n",
            "\n"
          ]
        }
      ],
      "source": [
        "print(text)"
      ]
    },
    {
      "cell_type": "code",
      "execution_count": 79,
      "metadata": {
        "colab": {
          "base_uri": "https://localhost:8080/"
        },
        "id": "tvBVictTGqwA",
        "outputId": "6defc3d0-9cb4-455e-e458-274ff82352d4"
      },
      "outputs": [
        {
          "data": {
            "text/plain": [
              "742"
            ]
          },
          "execution_count": 79,
          "metadata": {},
          "output_type": "execute_result"
        }
      ],
      "source": [
        "len(text)"
      ]
    },
    {
      "cell_type": "code",
      "execution_count": 80,
      "metadata": {
        "colab": {
          "base_uri": "https://localhost:8080/"
        },
        "id": "jozdSMkKGl14",
        "outputId": "8203fd3b-8361-4861-8651-8c21733be6c3"
      },
      "outputs": [
        {
          "name": "stdout",
          "output_type": "stream",
          "text": [
            "Teams at UCLA built an advanced microscope that yields a high-dimensional data set used to train a deep learning application to accurately identify cancer cells.\n",
            "\n",
            "\n",
            " Deep learning is used to identify objects from satellites that locate areas of interest, and identify safe or unsafe zones for troops.\n",
            "\n"
          ]
        }
      ],
      "source": [
        "print(summary)"
      ]
    },
    {
      "cell_type": "code",
      "execution_count": 81,
      "metadata": {
        "colab": {
          "base_uri": "https://localhost:8080/"
        },
        "id": "GmQZjx_6Gsda",
        "outputId": "b42f2a34-759b-4b0f-aa48-ee9867398cdf"
      },
      "outputs": [
        {
          "data": {
            "text/plain": [
              "300"
            ]
          },
          "execution_count": 81,
          "metadata": {},
          "output_type": "execute_result"
        }
      ],
      "source": [
        "len(summary)"
      ]
    },
    {
      "cell_type": "code",
      "execution_count": null,
      "metadata": {},
      "outputs": [],
      "source": []
    }
  ],
  "metadata": {
    "colab": {
      "provenance": []
    },
    "kernelspec": {
      "display_name": "Python 3",
      "name": "python3"
    },
    "language_info": {
      "codemirror_mode": {
        "name": "ipython",
        "version": 3
      },
      "file_extension": ".py",
      "mimetype": "text/x-python",
      "name": "python",
      "nbconvert_exporter": "python",
      "pygments_lexer": "ipython3",
      "version": "3.11.0"
    }
  },
  "nbformat": 4,
  "nbformat_minor": 0
}
